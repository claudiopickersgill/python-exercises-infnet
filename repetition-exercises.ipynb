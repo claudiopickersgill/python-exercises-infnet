{
 "cells": [
  {
   "attachments": {},
   "cell_type": "markdown",
   "metadata": {},
   "source": [
    "### Write a program that, given a set of N numbers, determines the smallest value, the largest value and the sum of the values."
   ]
  },
  {
   "cell_type": "code",
   "execution_count": null,
   "metadata": {},
   "outputs": [],
   "source": [
    "number = int(input(\"How many numbers do you want to compare? \"))\n",
    "bigger = None\n",
    "lower = None\n",
    "sum = 0\n",
    "for i in range(number):\n",
    "  value = int(input(f\"Digite o {i+1}o numero: \"))\n",
    "  if bigger != None and bigger > value:\n",
    "    bigger = bigger\n",
    "  else:\n",
    "    bigger = value\n",
    "  if lower != None and lower < value:\n",
    "    lower = lower\n",
    "  else:\n",
    "    lower = value\n",
    "  sum += value\n",
    "\n",
    "print(\"Bigger: \", bigger)\n",
    "print(\"Lower: \", lower)\n",
    "print(\"Sum: \", sum)"
   ]
  },
  {
   "attachments": {},
   "cell_type": "markdown",
   "metadata": {},
   "source": [
    "### Make a program that asks n people for their age, at the end the program should check if the average age.\n",
    "- 0 and 25 (young)\n",
    "- 26 and 60 (adult)\n",
    "- greater than 60 (elderly)"
   ]
  },
  {
   "cell_type": "code",
   "execution_count": 3,
   "metadata": {},
   "outputs": [
    {
     "name": "stdout",
     "output_type": "stream",
     "text": [
      "A idade total é:  166\n",
      "The avarege age is 33.2\n",
      "This is a Adult class!\n"
     ]
    }
   ],
   "source": [
    "amount = int(input(\"How many ages want to compare? \"))\n",
    "sum_age = 0\n",
    "for i in range(amount):\n",
    "  age = int(input(f\"Type the {i+1}o age: \"))\n",
    "  sum_age += age\n",
    "\n",
    "print(\"Total age: \", sum_age)\n",
    "avg = sum_age/amount\n",
    "\n",
    "if avg > 0 and avg <= 25:\n",
    "  print(\"The avarege age is\", avg)\n",
    "  print(\"This is a Young class!\")\n",
    "elif avg > 25 and avg <= 60:\n",
    "  print(\"The avarege age is\", avg)\n",
    "  print(\"This is a Adult class!\")\n",
    "else:\n",
    "  print(\"The avarege age is\", avg)\n",
    "  print(\"This is a Elderly class!\")"
   ]
  }
 ],
 "metadata": {
  "kernelspec": {
   "display_name": "Python 3",
   "language": "python",
   "name": "python3"
  },
  "language_info": {
   "codemirror_mode": {
    "name": "ipython",
    "version": 3
   },
   "file_extension": ".py",
   "mimetype": "text/x-python",
   "name": "python",
   "nbconvert_exporter": "python",
   "pygments_lexer": "ipython3",
   "version": "3.10.9"
  },
  "orig_nbformat": 4
 },
 "nbformat": 4,
 "nbformat_minor": 2
}
