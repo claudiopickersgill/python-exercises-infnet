{
 "cells": [
  {
   "attachments": {},
   "cell_type": "markdown",
   "metadata": {},
   "source": [
    "#### Write a program that uses the valuePayment function to determine the amount to be paid for an account payment. \n",
    "- The program should ask the user for the amount of the installment and the number of days in arrears and pass these values to the valuePagamento function, which will calculate the amount to be paid and return this value to the program that called it. \n",
    "- The program should then display the amount to be paid on the screen. \n",
    "- After execution, the program should ask for another installment value again and continue until a value equal to zero is informed for the installment. At this moment, the program should be closed, displaying the day's report, which will contain the amount and total amount of installments paid on the day. \n",
    "- The calculation of the amount to be paid is done as follows.\n",
    "- For late payments, charge the installment amount. When there is delay, charge 3% fine, plus 0.1% interest per day of delay.\n"
   ]
  },
  {
   "cell_type": "code",
   "execution_count": 6,
   "metadata": {},
   "outputs": [
    {
     "name": "stdout",
     "output_type": "stream",
     "text": [
      "The total amout to be paid is:  361.55\n",
      "End of the Day Report:\n",
      "Total value of installments: R$361.55 \n",
      "Total amout of installments: 1 \n"
     ]
    }
   ],
   "source": [
    "\n",
    "def value_payment(value, days):  \n",
    "  if days > 0:\n",
    "    fine = float(0.03 + (0.001 * days))\n",
    "    value_installment = float(value + (value * fine))\n",
    "  else:\n",
    "    value_installment = float(value)  \n",
    "  return value_installment\n",
    "\n",
    "value_installment = float(input(\"Type the value of the installment: \"))\n",
    "delay = float(input(\"Type the days of delay: \"))\n",
    "installment_amout = 1\n",
    "final_value = value_payment(value_installment, delay)\n",
    "print(\"The total amout to be paid is: \",final_value)\n",
    "total_value = final_value\n",
    "\n",
    "while value_installment != 0:\n",
    " \n",
    "  value_installment = float(input(\"Type the value of the installment: \"))\n",
    "  if value_installment == 0:\n",
    "    break\n",
    "  delay = float(input(\"Type the days of delay: \"))\n",
    "  valorFinal = value_payment(value_installment, delay)\n",
    "  installment_amout += 1\n",
    "  total_value += final_value\n",
    "\n",
    "print(\"End of the Day Report:\")\n",
    "print(f\"Total value of installments: R${total_value} \")\n",
    "print(f\"Total amout of installments: {installment_amout} \")"
   ]
  }
 ],
 "metadata": {
  "kernelspec": {
   "display_name": "Python 3",
   "language": "python",
   "name": "python3"
  },
  "language_info": {
   "codemirror_mode": {
    "name": "ipython",
    "version": 3
   },
   "file_extension": ".py",
   "mimetype": "text/x-python",
   "name": "python",
   "nbconvert_exporter": "python",
   "pygments_lexer": "ipython3",
   "version": "3.10.9"
  },
  "orig_nbformat": 4
 },
 "nbformat": 4,
 "nbformat_minor": 2
}
