{
 "cells": [
  {
   "attachments": {},
   "cell_type": "markdown",
   "metadata": {},
   "source": [
    "### Make a program that asks the price of three products and tells you which product you should buy, knowing that the decision is always the cheapest."
   ]
  },
  {
   "cell_type": "code",
   "execution_count": null,
   "metadata": {},
   "outputs": [],
   "source": [
    "\n",
    "lower_value = float(input(\"What's the reference price?? (> 0) \"))\n",
    "amout = int(input(\"How many products do you want to compare?? \"))\n",
    "count = 0\n",
    "for x in range(amout):\n",
    "  value = float(input(f\"Type the value of {x+1}o product: \"))\n",
    "  if lower_value <= 0:\n",
    "    lower_value = value\n",
    "  else:\n",
    "    if value < lower_value:\n",
    "      lower_value = value\n",
    "  if value > lower_value:\n",
    "    count += 1\n",
    "if count == amout:\n",
    "  print(\"There's no product whit value less then reference price!\")\n",
    "else:\n",
    "  print(\"The product to buy cost: \", lower_value)"
   ]
  },
  {
   "attachments": {},
   "cell_type": "markdown",
   "metadata": {},
   "source": [
    "###\n",
    "A gas station is selling fuel with the following discount table:\n",
    "- Alcohol:\n",
    "up to 20 liters, 3% discount per liter\n",
    "over 20 litres, 5% discount per liter\n",
    "- Gasoline:\n",
    "up to 20 liters, 4% discount per liter\n",
    "over 20 litres, 6% discount per liter\n",
    "\n",
    "Write an algorithm that reads the number of liters sold, the type of fuel (coded as follows: A-alcohol, G-gasoline), calculates and prints the amount to be paid by the customer, knowing that the price of a liter of gasoline is R$ 2.50 the price of a liter of alcohol is R$ 1.90."
   ]
  },
  {
   "cell_type": "code",
   "execution_count": null,
   "metadata": {},
   "outputs": [],
   "source": [
    "fuel_type = input(\"What do you want?? A-Alcool ou G-Gasoline? \")\n",
    "if fuel_type.upper() == \"A\":\n",
    "  amout = int(input(\"How many liters? \"))\n",
    "  if amout > 0 and amout <= 20:\n",
    "    discount = 0.03\n",
    "    value_liter = 1.9 * amout - (discount * amout * 1.9)\n",
    "    print(f\"You spent R${round(value_liter)} in {amout} Liters!!\")\n",
    "  elif amout >= 20:\n",
    "    discount = 0.05\n",
    "    value_liter = 1.9 * amout - (discount * amout * 1.9)\n",
    "    print(f\"You spent R${round(value_liter)} in {amout} Liters!!\")\n",
    "elif fuel_type.upper() == \"G\":\n",
    "  amout = int(input(\"Quantos litros deseja abastecer? \"))\n",
    "  if amout > 0 and amout <= 20:\n",
    "    discount = 0.04\n",
    "    value_liter = 2.5 * amout - (discount * amout * 2.5)\n",
    "    print(f\"You spent R${round(value_liter)} in {amout} Liters!!\")\n",
    "  elif amout >= 20:\n",
    "    discount = 0.06\n",
    "    value_liter = 2.5 * amout - (discount * amout * 2.5)\n",
    "    print(f\"You spent R${round(value_liter)} in {amout} Liters!!\")"
   ]
  },
  {
   "attachments": {},
   "cell_type": "markdown",
   "metadata": {},
   "source": [
    "###\n",
    "Make a Program that asks for the 3 sides of a triangle. The program should inform if the values can be a triangle. Indicate, if the sides form a triangle, if it is: equilateral, isosceles or scalene.\n",
    "Tips:\n",
    "- Three sides form a triangle when the sum of any two sides is greater than the third;\n",
    "- Equilateral triangle: three equal sides;\n",
    "- Isosceles triangle: any two equal sides;\n",
    "- Scalene triangle: three different sides;"
   ]
  },
  {
   "cell_type": "code",
   "execution_count": null,
   "metadata": {},
   "outputs": [],
   "source": [
    "print(\"Type the sides of a triangle: \")\n",
    "s1 = int(input(\"Type first value: \"))\n",
    "s2 = int(input(\"Type secund value: \"))\n",
    "s3 = int(input(\"Type third value: \"))\n",
    "\n",
    "if (s1 + s2) > s3 or (s2 + s3) > s1 or (s3 + s1) > s2:\n",
    "  print(\"É um triangulo!\")\n",
    "  if s1 == s2 == s3:\n",
    "    print(\"Equilateral\")\n",
    "  elif s1 == s2 or s2 == s3 or s3 == s1:\n",
    "    print(\"Isosceles\")\n",
    "  elif s1 != s2 and s2 != s3:\n",
    "    print(\"Scalene\")\n",
    "else:\n",
    "  print(\"It's not a Triangle!\")"
   ]
  },
  {
   "attachments": {},
   "cell_type": "markdown",
   "metadata": {},
   "source": [
    "### Write a program that checks whether a typed letter is a vowel or a consonant."
   ]
  },
  {
   "cell_type": "code",
   "execution_count": null,
   "metadata": {},
   "outputs": [],
   "source": [
    "vowels = [\"A\", \"E\", \"I\", \"O\", \"U\"]\n",
    "\n",
    "letter = str(input(\"Type: \"))\n",
    "\n",
    "if letter.upper() in vowels:\n",
    "  print(\"It's a vowel!\")\n",
    "else:\n",
    "  print(\"It's a consonant!\")"
   ]
  },
  {
   "attachments": {},
   "cell_type": "markdown",
   "metadata": {},
   "source": [
    "### Write a program that checks if a typed letter is:\n",
    "- \"F\" (Female)\n",
    "- \"M\" (Male)\n",
    "- Invalid Gender."
   ]
  },
  {
   "cell_type": "code",
   "execution_count": null,
   "metadata": {},
   "outputs": [],
   "source": [
    "letter = str(input(\"Type a letter: \"))\n",
    "if letter.upper() == \"F\":\n",
    "    print(\"F - Female\")\n",
    "elif letter.upper() == \"M\":\n",
    "    print(\"M - Male\")\n",
    "else:\n",
    "    print(\"Invalid Gender\")"
   ]
  },
  {
   "attachments": {},
   "cell_type": "markdown",
   "metadata": {},
   "source": [
    "### Make a Program that asks for a value and shows on the screen if the value is positive or negative."
   ]
  },
  {
   "cell_type": "code",
   "execution_count": null,
   "metadata": {},
   "outputs": [],
   "source": [
    "num = float(input(\"Type a number: \"))\n",
    "if num > 0:\n",
    "  print(\"Number is positive!\")\n",
    "elif num < 0:\n",
    "  print(\"Number is negative\")      \n",
    "else:\n",
    "    print(\"You type zero. Zero is nothing\")"
   ]
  },
  {
   "attachments": {},
   "cell_type": "markdown",
   "metadata": {},
   "source": [
    "### Write a program that asks for two numbers and prints the larger one."
   ]
  },
  {
   "cell_type": "code",
   "execution_count": null,
   "metadata": {},
   "outputs": [],
   "source": [
    "num1 = float(input(\"Digite um número qualquer: \"))\n",
    "num2 = float(input(\"Digite outro número qualquer: \"))\n",
    "\n",
    "if num1 < 0 and num1 > num2:\n",
    "    bigger = num1\n",
    "elif num2 < 0 and num2 > num1:\n",
    "    bigger = num2\n",
    "else:\n",
    "    bigger = num1\n",
    "if bigger < num2:\n",
    "    bigger = num2\n",
    "\n",
    "print(f\"The bigger is: {bigger}\")"
   ]
  }
 ],
 "metadata": {
  "kernelspec": {
   "display_name": "Python 3",
   "language": "python",
   "name": "python3"
  },
  "language_info": {
   "codemirror_mode": {
    "name": "ipython",
    "version": 3
   },
   "file_extension": ".py",
   "mimetype": "text/x-python",
   "name": "python",
   "nbconvert_exporter": "python",
   "pygments_lexer": "ipython3",
   "version": "3.10.9"
  },
  "orig_nbformat": 4
 },
 "nbformat": 4,
 "nbformat_minor": 2
}
