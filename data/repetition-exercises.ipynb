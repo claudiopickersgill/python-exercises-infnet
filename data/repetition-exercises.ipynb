{
 "cells": [
  {
   "attachments": {},
   "cell_type": "markdown",
   "metadata": {},
   "source": [
    "### Write a program that, given a set of N numbers, determines the smallest value, the largest value and the sum of the values."
   ]
  },
  {
   "cell_type": "code",
   "execution_count": null,
   "metadata": {},
   "outputs": [],
   "source": [
    "number = int(input(\"How many numbers do you want to compare? \"))\n",
    "bigger = None\n",
    "lower = None\n",
    "sum = 0\n",
    "for i in range(number):\n",
    "  value = int(input(f\"Digite o {i+1}o numero: \"))\n",
    "  if bigger != None and bigger > value:\n",
    "    bigger = bigger\n",
    "  else:\n",
    "    bigger = value\n",
    "  if lower != None and lower < value:\n",
    "    lower = lower\n",
    "  else:\n",
    "    lower = value\n",
    "  sum += value\n",
    "\n",
    "print(\"Bigger: \", bigger)\n",
    "print(\"Lower: \", lower)\n",
    "print(\"Sum: \", sum)"
   ]
  },
  {
   "attachments": {},
   "cell_type": "markdown",
   "metadata": {},
   "source": [
    "### Make a program that asks n people for their age, at the end the program should check if the average age.\n",
    "- 0 and 25 (young)\n",
    "- 26 and 60 (adult)\n",
    "- greater than 60 (elderly)"
   ]
  },
  {
   "cell_type": "code",
   "execution_count": null,
   "metadata": {},
   "outputs": [],
   "source": [
    "amount = int(input(\"How many ages want to compare? \"))\n",
    "sum_age = 0\n",
    "for i in range(amount):\n",
    "  age = int(input(f\"Type the {i+1}a age: \"))\n",
    "  sum_age += age\n",
    "\n",
    "print(\"Total age: \", sum_age)\n",
    "avg = sum_age/amount\n",
    "\n",
    "if avg > 0 and avg <= 25:\n",
    "  print(\"The avarege age is\", avg)\n",
    "  print(\"This is a Young class!\")\n",
    "elif avg > 25 and avg <= 60:\n",
    "  print(\"The avarege age is\", avg)\n",
    "  print(\"This is a Adult class!\")\n",
    "else:\n",
    "  print(\"The avarege age is\", avg)\n",
    "  print(\"This is a Elderly class!\")"
   ]
  },
  {
   "attachments": {},
   "cell_type": "markdown",
   "metadata": {},
   "source": [
    "### The State Department of Meteorology hired you to develop a program that reads a set of temperatures x, and finally reports the lowest and highest temperatures reported, as well as the average temperature."
   ]
  },
  {
   "cell_type": "code",
   "execution_count": null,
   "metadata": {},
   "outputs": [],
   "source": [
    "amount = int(input(\"How many temperatures do you want to compare? \"))\n",
    "bigger_temp = None\n",
    "lower_temp = None\n",
    "sum_temp = 0\n",
    "for i in range(amount):\n",
    "  value = float(input(f\"Type the {i+1}a temperature: \"))\n",
    "  if bigger_temp != None and bigger_temp > value:\n",
    "    bigger_temp = bigger_temp\n",
    "  else:\n",
    "    bigger_temp = value\n",
    "  if lower_temp != None and lower_temp < value:\n",
    "    lower_temp = lower_temp\n",
    "  else:\n",
    "    lower_temp = value\n",
    "  sum_temp += value\n",
    "avg_temp = sum_temp/amount\n",
    "\n",
    "print(\"Bigger: \", bigger_temp)\n",
    "print(\"Lower: \", lower_temp)\n",
    "print(\"Sum: \", sum_temp)\n",
    "print(\"Avarage: \", avg_temp)"
   ]
  },
  {
   "attachments": {},
   "cell_type": "markdown",
   "metadata": {},
   "source": [
    "### Write a program that reads an undetermined amount of positive numbers and counts how many of them are in the following ranges:\n",
    "- [0-25]\n",
    "- [26-50]\n",
    "- [51-75]\n",
    "- [76-100].\n",
    "- Data entry should end when a negative number is read."
   ]
  },
  {
   "cell_type": "code",
   "execution_count": 6,
   "metadata": {},
   "outputs": [
    {
     "name": "stdout",
     "output_type": "stream",
     "text": [
      "Typed 1 number in range 0-25\n",
      "Typed 3 number in range 25-50\n",
      "Typed 2 number in range 51-75\n",
      "Typed 2 number in range 75-100\n"
     ]
    }
   ],
   "source": [
    "number = int(input(\"Type a positive number, or 0 to end the program!\"))\n",
    "range_1 = 0\n",
    "range_2 = 0\n",
    "range_3 = 0\n",
    "range_4 = 0\n",
    "while number > 0:\n",
    "    if number > 0 and number <= 25:\n",
    "        range_1 += 1\n",
    "    elif number > 25 and number <= 50:\n",
    "        range_2 += 1\n",
    "    elif number >= 51 and number <= 75:\n",
    "        range_3 += 1\n",
    "    elif number >= 76 and number <= 100:\n",
    "        range_4 += 1\n",
    "    else:\n",
    "        print(\"The End\")\n",
    "    number = int(input(\"Type a positive number, or 0 to end the program!\"))\n",
    "\n",
    "print(f\"Typed {range_1} number in range 0-25\")\n",
    "print(f\"Typed {range_2} number in range 25-50\")\n",
    "print(f\"Typed {range_3} number in range 51-75\")\n",
    "print(f\"Typed {range_4} number in range 75-100\")"
   ]
  }
 ],
 "metadata": {
  "kernelspec": {
   "display_name": "Python 3",
   "language": "python",
   "name": "python3"
  },
  "language_info": {
   "codemirror_mode": {
    "name": "ipython",
    "version": 3
   },
   "file_extension": ".py",
   "mimetype": "text/x-python",
   "name": "python",
   "nbconvert_exporter": "python",
   "pygments_lexer": "ipython3",
   "version": "3.10.9"
  },
  "orig_nbformat": 4
 },
 "nbformat": 4,
 "nbformat_minor": 2
}
