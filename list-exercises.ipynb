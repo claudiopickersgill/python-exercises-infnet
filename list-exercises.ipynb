{
 "cells": [
  {
   "attachments": {},
   "cell_type": "markdown",
   "metadata": {},
   "source": [
    "### Read a list of 5 float numbers and print them in reverse order."
   ]
  },
  {
   "cell_type": "code",
   "execution_count": 1,
   "metadata": {},
   "outputs": [
    {
     "name": "stdout",
     "output_type": "stream",
     "text": [
      "[5.0, 4.0, 3.0, 2.0, 1.0]\n"
     ]
    }
   ],
   "source": [
    "amount = int(input(\"Type the amount of numbers to be read: \"))\n",
    "numbers = []\n",
    "\n",
    "for number in range(amount):\n",
    "    numbers.append(float(input(f\"Type the {number+1}o number: \")))\n",
    "\n",
    "print(numbers[::-1])"
   ]
  },
  {
   "attachments": {},
   "cell_type": "markdown",
   "metadata": {},
   "source": [
    "### Read a list of 5 integers and show each number along with its position in the list."
   ]
  },
  {
   "cell_type": "code",
   "execution_count": 2,
   "metadata": {},
   "outputs": [
    {
     "name": "stdout",
     "output_type": "stream",
     "text": [
      "The number 1.0 is in the 0 position\n",
      "The number 2.0 is in the 1 position\n",
      "The number 3.0 is in the 2 position\n",
      "The number 4.0 is in the 3 position\n",
      "The number 5.0 is in the 4 position\n"
     ]
    }
   ],
   "source": [
    "amount = int(input(\"Type the amount of numbers to be read: \"))\n",
    "numbers = []\n",
    "\n",
    "for number in range(amount):\n",
    "    numbers.append(float(input(f\"Type the {number+1}o number: \")))\n",
    "\n",
    "for number in range(len(numbers)):\n",
    "  print(f\"The number {numbers[number]} is in the {number} position\")"
   ]
  },
  {
   "attachments": {},
   "cell_type": "markdown",
   "metadata": {},
   "source": [
    "### Make a Program that reads 4 grades, stores them in a list and shows the grades and the average on the screen."
   ]
  },
  {
   "cell_type": "code",
   "execution_count": 3,
   "metadata": {},
   "outputs": [
    {
     "name": "stdout",
     "output_type": "stream",
     "text": [
      "The list is:  [8.0, 7.0, 6.0, 9.0, 4.0]\n",
      "The avarege of grades is:  6.8\n"
     ]
    }
   ],
   "source": [
    "amount = int(input(\"Type the amout of grades to be add in the list: \"))\n",
    "grades = []\n",
    "sum = 0\n",
    "\n",
    "for grade in range(amount):\n",
    "    grade = float(input(\"Type the grede: \"))\n",
    "    grades.append(grade)\n",
    "    sum += grade\n",
    "    \n",
    "print(\"The list is: \", grades)\n",
    "print(\"The avarege of grades is: \", sum/amount)"
   ]
  },
  {
   "attachments": {},
   "cell_type": "markdown",
   "metadata": {},
   "source": [
    "### Read a list of 5 ages and display the highest and lowest"
   ]
  },
  {
   "cell_type": "code",
   "execution_count": null,
   "metadata": {},
   "outputs": [],
   "source": [
    "amount = int(input(\"Type the amount of ages to be add in the list: \"))\n",
    "ages = []\n",
    "for age in range(amount):\n",
    "    age = int(input(\"Digite a idade: \"))\n",
    "    ages.append(age)\n",
    "\n",
    "print(\"The max age is: \", max(ages))\n",
    "print(\"The min age is: \", min(ages))"
   ]
  },
  {
   "attachments": {},
   "cell_type": "markdown",
   "metadata": {},
   "source": [
    "### Use the following list: [0, 1, 2, 3, 4, 5, 6, 7, 8, 9, 10, 11, 12] and display:\n",
    "1) the range from 1 to 9\n",
    "2) the even elements of this list\n",
    "3) the odd elements of this list\n",
    "4) all multiples of 2 and 3\n",
    "5) the reverse list\n",
    "6) the ratio between the sum of the range 2 to 6 and the range 3 to 9 in float."
   ]
  },
  {
   "cell_type": "code",
   "execution_count": null,
   "metadata": {},
   "outputs": [],
   "source": [
    "amount = int(input(\"Type the amount of numbers to be add in the list: \"))\n",
    "numbers = []\n",
    "\n",
    "for number in range(amount):\n",
    "    number = int(input(\"Type the number: \"))\n",
    "    numbers.append(number)\n",
    "\n",
    "#1\n",
    "print(\"Range 1 to 9:\")\n",
    "print(numbers[1:9])\n",
    "print(\"\\n\")\n",
    "\n",
    "#2 and 3\n",
    "even = []\n",
    "odd = []\n",
    "for number in numbers:\n",
    "    div = number%2\n",
    "    if div == 0:\n",
    "        even.append(number)        \n",
    "    else:\n",
    "        odd.append(number)\n",
    "\n",
    "print(\"The Even numbers: \", even)\n",
    "print(\"The Odd numbers: \", odd)\n",
    "print(\"\\n\")\n",
    "\n",
    "#4\n",
    "multi_2 = []\n",
    "multi_3 = []\n",
    "multiples = []\n",
    "for number in numbers:\n",
    "    div_by_2 = number%2\n",
    "    div_by_3 = number%3\n",
    "    if div_by_2 == 0:\n",
    "      multi_2.append(number)\n",
    "    if div_by_3 == 0:\n",
    "      multi_3.append(number)\n",
    "    if div_by_2 == 0 and div_by_3 == 0:\n",
    "      multiples.append(number)     \n",
    "\n",
    "print(\"Multiples of 2: \", multi_2)\n",
    "print(\"Multiples of 3: \", multi_3)\n",
    "print(\"Multiples of 2 and 3: \", multiples)\n",
    "print(\"\\n\")\n",
    "\n",
    "#5\n",
    "print(\"Reversed List: \")\n",
    "print(numbers[::-1])\n",
    "print(\"\\n\")"
   ]
  },
  {
   "attachments": {},
   "cell_type": "markdown",
   "metadata": {},
   "source": [
    "### Rewrite the previous exercise, using functions"
   ]
  },
  {
   "cell_type": "code",
   "execution_count": 1,
   "metadata": {},
   "outputs": [
    {
     "name": "stdout",
     "output_type": "stream",
     "text": [
      "Range 1-9:  [2, 3, 4, 5]\n",
      "The even numbers:  [2, 4]\n",
      "The odds numbers:  [1, 3, 5]\n",
      "The multiples of 2:  [2, 4]\n",
      "The multiples of 3:  [3]\n",
      "The multiples of 2 and 3:  []\n",
      "Reversed list:  [5, 4, 3, 2, 1]\n"
     ]
    }
   ],
   "source": [
    "def ranged(lista):\n",
    "    result = lista[1:9]\n",
    "    return result\n",
    "\n",
    "def even_odd(lista):\n",
    "    even = []\n",
    "    odd = []\n",
    "    for number in lista:\n",
    "        div = number % 2\n",
    "        if div == 0:\n",
    "            even.append(number)\n",
    "        else:\n",
    "            odd.append(number)\n",
    "    return even, odd\n",
    "\n",
    "def multiples(lista):\n",
    "    multi_2 = []\n",
    "    multi_3 = []\n",
    "    multi_6 = []\n",
    "    for number in lista:\n",
    "        div_by_2 = number%2\n",
    "        div_by_3 = number%3\n",
    "        if div_by_2 == 0:\n",
    "            multi_2.append(number)\n",
    "        if div_by_3 == 0:\n",
    "            multi_3.append(number)\n",
    "        if div_by_2 == 0 and div_by_3 == 0:\n",
    "            multiples.append(number)\n",
    "    return multi_2, multi_3, multi_6\n",
    "\n",
    "def reverse(lista):\n",
    "    result = lista[::-1]\n",
    "    return result\n",
    "\n",
    "\n",
    "amount = int(input(\"Type the amount of numbers to be add: \"))\n",
    "numbers = []\n",
    "\n",
    "for number in range(amount):\n",
    "    number = int(input(\"Type a number: \"))\n",
    "    numbers.append(number)\n",
    "\n",
    "even, odd = even_odd(numbers)\n",
    "multi_2, multi_3, multi_6 = multiples(numbers)\n",
    "\n",
    "print(\"Range 1-9: \", ranged(numbers))\n",
    "print(\"The even numbers: \", even)\n",
    "print(\"The odds numbers: \", odd)\n",
    "print(\"The multiples of 2: \", multi_2)\n",
    "print(\"The multiples of 3: \", multi_3)\n",
    "print(\"The multiples of 2 and 3: \", multi_6)\n",
    "print(\"Reversed list: \", reverse(numbers))"
   ]
  }
 ],
 "metadata": {
  "kernelspec": {
   "display_name": "Python 3",
   "language": "python",
   "name": "python3"
  },
  "language_info": {
   "codemirror_mode": {
    "name": "ipython",
    "version": 3
   },
   "file_extension": ".py",
   "mimetype": "text/x-python",
   "name": "python",
   "nbconvert_exporter": "python",
   "pygments_lexer": "ipython3",
   "version": "3.10.9"
  },
  "orig_nbformat": 4
 },
 "nbformat": 4,
 "nbformat_minor": 2
}
